{
 "cells": [
  {
   "cell_type": "markdown",
   "metadata": {},
   "source": [
    "## Importing"
   ]
  },
  {
   "cell_type": "code",
   "execution_count": null,
   "metadata": {},
   "outputs": [],
   "source": [
    "import sympy as sp\n",
    "import numpy as np"
   ]
  },
  {
   "cell_type": "markdown",
   "metadata": {},
   "source": [
    "### The function"
   ]
  },
  {
   "cell_type": "code",
   "execution_count": null,
   "metadata": {},
   "outputs": [],
   "source": [
    "def newton_method_with_sympy_npmpy(\n",
    "        var_tup, func_tup, initial_x_list,\n",
    "        max_tolerence=0.0001, max_iterations=100):\n",
    "    \"\"\"\n",
    "    Function that calculates the zero values using Newton-Raphson method.\n",
    "\n",
    "    Parameters\n",
    "    ----------\n",
    "    var_tup : tuple_of_sympy_symbols\n",
    "        Tuple of sympy symbols (variables).\n",
    "        Eg. (x1, x2, x3) where x1 = sympy.symbols('x1') etc.\n",
    "    func_tup : tuple_of_sympy_expressions\n",
    "        Tuple of sympy functions.\n",
    "        Eg. (f1, f2, f3) where f1 = sp.cos(x1) + 4 etc.\n",
    "    initial_x_list : list\n",
    "        List of guess values of variables. Eg. [0.1, 4, -3.3]\n",
    "    max_tolerence : float, optional\n",
    "        Maximum possible adjustment in last step.\n",
    "    max_iterations : int, optional\n",
    "        Maximum iterations.\n",
    "\n",
    "    Returns\n",
    "    -------\n",
    "    numpy_column_matrix\n",
    "        Calculated zero values from newton method. If calculation doesn't\n",
    "        converge then the last un-converged values will be given.\n",
    "    int\n",
    "        The last iteration number (weather converged or not).\n",
    "    float\n",
    "        Maximum value of last adjustment.\n",
    "\n",
    "    Note\n",
    "    ----\n",
    "    Number of variables should be more than one. Did not test with number\n",
    "    of variables and number of functions are not equal. Wrong guess values can\n",
    "    result in singular matrix error while inverting Jacobian matrix.\n",
    "    \"\"\"\n",
    "\n",
    "    X = np.matrix(initial_x_list).T\n",
    "\n",
    "    # Number of functions and variables\n",
    "    no_func = len(func_tup)\n",
    "    no_var = len(var_tup)\n",
    "\n",
    "    # Initialise with a matrix with zeros\n",
    "    j_sym_matrix = sp.Matrix(\n",
    "            [[0 for j in range(no_var)] for i in range(no_func)]\n",
    "            )\n",
    "\n",
    "    # Assign sympy function terms to Jacobian matrix\n",
    "    for i in range(no_func):\n",
    "        for j in range(no_var):\n",
    "            # diff for partial derivative of first arg with second\n",
    "            j_sym_matrix[i, j] = sp.diff(func_tup[i], var_tup[j])\n",
    "\n",
    "    # These are similar to functions given by sympy.lambdify used to\n",
    "    # evaluate numerical values from symbolic functions\n",
    "    get_func_values_tuple_from_sympy_functions = sp.lambdify(\n",
    "            var_tup, func_tup, modules='numpy')\n",
    "    get_j_values_array_from_sympy_J_matrix = sp.lambdify(\n",
    "            var_tup, j_sym_matrix, modules='numpy')\n",
    "\n",
    "    # X as column numpy matrix input and same type as output\n",
    "    def F(X):\n",
    "        # input to sympy.lambdify should be tuple, so converting\n",
    "        my_tuple = tuple(map(float, X))\n",
    "        return np.matrix(\n",
    "                get_func_values_tuple_from_sympy_functions(*my_tuple),\n",
    "                dtype=float).T\n",
    "\n",
    "    # X as column numpy matrix input and a numpy rectangular matrix as output\n",
    "    def J(X):\n",
    "        # input to sympy.lambdify should be tuple, so converting\n",
    "        my_tuple = tuple(map(float, X))\n",
    "        return np.matrix(\n",
    "                get_j_values_array_from_sympy_J_matrix(*my_tuple),\n",
    "                dtype=float)\n",
    "\n",
    "    # The Newton-Raphson calculations\n",
    "    i = 0\n",
    "    epsilon = np.inf\n",
    "    while (i < max_iterations and np.abs(epsilon).max() > max_tolerence):\n",
    "        X_new = X - J(X).I * F(X)\n",
    "        epsilon = X_new - X\n",
    "        X = X_new\n",
    "        i += 1\n",
    "\n",
    "    return X, i, np.abs(epsilon).max()"
   ]
  },
  {
   "cell_type": "markdown",
   "metadata": {},
   "source": [
    "# Example"
   ]
  },
  {
   "cell_type": "markdown",
   "metadata": {},
   "source": [
    "Defining symbols"
   ]
  },
  {
   "cell_type": "code",
   "execution_count": null,
   "metadata": {},
   "outputs": [],
   "source": [
    "x1 = sp.symbols('x1')\n",
    "x2 = sp.symbols('x2')\n",
    "x3 = sp.symbols('x3')"
   ]
  },
  {
   "cell_type": "markdown",
   "metadata": {},
   "source": [
    "Defining expressions"
   ]
  },
  {
   "cell_type": "code",
   "execution_count": null,
   "metadata": {},
   "outputs": [],
   "source": [
    "f1 = sp.cos(x1) + sp.sin(x2)\n",
    "f2 = sp.sin(x2) + sp.cos(x3)\n",
    "f3 = sp.cos(x3)"
   ]
  },
  {
   "cell_type": "markdown",
   "metadata": {},
   "source": [
    "Guess values"
   ]
  },
  {
   "cell_type": "code",
   "execution_count": null,
   "metadata": {},
   "outputs": [],
   "source": [
    "initial_x_list = [0.5, 0.5, 0.5]"
   ]
  },
  {
   "cell_type": "markdown",
   "metadata": {},
   "source": [
    "Making a list of variables and functions"
   ]
  },
  {
   "cell_type": "code",
   "execution_count": null,
   "metadata": {},
   "outputs": [],
   "source": [
    "var_tup = (x1, x2, x3)\n",
    "func_tup = (f1, f2, f3)"
   ]
  },
  {
   "cell_type": "markdown",
   "metadata": {},
   "source": [
    "Some more input parameters"
   ]
  },
  {
   "cell_type": "code",
   "execution_count": null,
   "metadata": {},
   "outputs": [],
   "source": [
    "max_iterations = 100\n",
    "max_tolerence = .0001"
   ]
  },
  {
   "cell_type": "markdown",
   "metadata": {},
   "source": [
    "Run and check"
   ]
  },
  {
   "cell_type": "code",
   "execution_count": null,
   "metadata": {},
   "outputs": [],
   "source": [
    "if __name__ == \"__main__\":\n",
    "    X, iter, adjustment = newton_method_with_sympy_npmpy(\n",
    "            var_tup, func_tup, initial_x_list, max_tolerence, max_iterations)"
   ]
  },
  {
   "cell_type": "markdown",
   "metadata": {},
   "source": [
    "Print the results"
   ]
  },
  {
   "cell_type": "code",
   "execution_count": null,
   "metadata": {},
   "outputs": [],
   "source": [
    "print(X)\n",
    "print(iter)\n",
    "print(adjustment)"
   ]
  }
 ],
 "metadata": {
  "kernelspec": {
   "display_name": "Python 3",
   "language": "python",
   "name": "python3"
  },
  "language_info": {
   "codemirror_mode": {
    "name": "ipython",
    "version": 3
   },
   "file_extension": ".py",
   "mimetype": "text/x-python",
   "name": "python",
   "nbconvert_exporter": "python",
   "pygments_lexer": "ipython3",
   "version": "3.7.3"
  }
 },
 "nbformat": 4,
 "nbformat_minor": 4
}
